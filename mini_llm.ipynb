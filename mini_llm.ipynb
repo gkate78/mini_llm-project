{
 "cells": [
  {
   "cell_type": "markdown",
   "id": "3d6a4827-9136-4951-a242-12fd53f4204d",
   "metadata": {},
   "source": [
    "# Install Python\n",
    "\n",
    "Make sure **[Python](https://marketplace.visualstudio.com/items?itemName=ms-python.python)** is installed on your system. You can download the latest version of Python from **[python.org](https://www.python.org/downloads/)**. During installation, ensure that the ***option to add Python to your system **PATH** is selected***."
   ]
  },
  {
   "cell_type": "markdown",
   "id": "72b0dfea",
   "metadata": {},
   "source": [
    "# Install Visual Studio Code\n",
    "\n",
    "1. Install **[Visual Studio Code](https://code.visualstudio.com/)** with these extensions.\n",
    "- [Jupyter](https://marketplace.visualstudio.com/items?itemName=ms-toolsai.jupyter)\n",
    "- [Python](https://marketplace.visualstudio.com/items?itemName=ms-python.python)\n",
    "- [Pylance](https://marketplace.visualstudio.com/items?itemName=ms-python.vscode-pylance)\n",
    "\n",
    "This will be our Integrated Development Environment (IDE) for writing and editing code.”\n",
    "\n",
    "- Go to Visual Studio Code website.\n",
    "- Click on Download for your OS (Windows, Mac, or Linux).\n",
    "- Once the download completes, run the installer.\n",
    "- Follow the on-screen instructions to complete the setup.\n",
    "\n",
    "2. Launch Visual Studio Code to verify the installation.\n",
    "\n",
    "3. Optional: Install recommended Python, Jupyter, and Docker extensions by navigating to the Extensions tab (shortcut: Ctrl + Shift + X).\n"
   ]
  },
  {
   "cell_type": "markdown",
   "id": "74733dba-d1aa-46cb-9830-8f7acf4d7378",
   "metadata": {
    "vscode": {
     "languageId": "plaintext"
    }
   },
   "source": [
    "# Prepare your Python environment\n",
    "\n",
    "Use [Pyenv](https://github.com/pyenv/pyenv) to manage Python versions. This allows switching between different versions of Python easily and also manage your virtual environments."
   ]
  },
  {
   "cell_type": "markdown",
   "id": "23a7bf4a-31e0-4f9c-ba51-7ed27350d37f",
   "metadata": {},
   "source": [
    "## Install and Configure pyenv for Managing Python Versions\n",
    "\n",
    "1. Open a terminal window and run the following command to install pyenv:\n",
    "\n",
    "**Mac/Linux:**"
   ]
  },
  {
   "cell_type": "code",
   "execution_count": null,
   "id": "0dd68ca7-5f1f-49d0-9589-b8ca96efee35",
   "metadata": {},
   "outputs": [],
   "source": [
    "#bash run code\n",
    "curl https://pyenv.run"
   ]
  },
  {
   "cell_type": "markdown",
   "id": "f848cc1a-72f7-4314-94d7-98d33fb2f1c6",
   "metadata": {},
   "source": [
    "**Windows:** Follow the installation instructions on **[Pyenv](https://github.com/pyenv-win/pyenv-win)** for Windows GitHub.\n",
    "\n",
    "2. Add pyenv to your shell configuration file:\n",
    "For bash users, add the following lines to ~/.bashrc:"
   ]
  },
  {
   "cell_type": "code",
   "execution_count": null,
   "id": "07586756-61a7-4a51-8dcb-42334f74897f",
   "metadata": {},
   "outputs": [],
   "source": [
    "#bash run code\n",
    "export PATH=\"$HOME/.pyenv/bin:$PATH\"\n",
    "eval \"$(pyenv init --path)\"\n",
    "eval \"$(pyenv init -)\""
   ]
  },
  {
   "cell_type": "markdown",
   "id": "636abbfd-c8d2-4ddc-b3d6-18e7e4d73056",
   "metadata": {},
   "source": [
    "3. For zsh users, add the lines to ~/.zshrc instead.\n",
    "\n",
    "4. Restart your terminal to load the changes.\n",
    "\n",
    "### To install a specific Python version for your LLM project:"
   ]
  },
  {
   "cell_type": "code",
   "execution_count": null,
   "id": "b73a75ad-560c-458f-9621-4225740b6918",
   "metadata": {},
   "outputs": [],
   "source": [
    "#bash run code\n",
    "pyenv install 3.12.2"
   ]
  },
  {
   "cell_type": "markdown",
   "id": "a28404f7-efa0-41cc-9dbb-a3d76c8b3f17",
   "metadata": {},
   "source": [
    "This command downloads and installs Python 3.12.2 using pyenv.\n",
    "Set this Python version as the default for your current project:"
   ]
  },
  {
   "cell_type": "code",
   "execution_count": null,
   "id": "a893e806-3cea-44d2-8de4-c6ac85725422",
   "metadata": {},
   "outputs": [],
   "source": [
    "#bash run code\n",
    "pyenv local 3.12.2"
   ]
  },
  {
   "cell_type": "markdown",
   "id": "75aa70fd-f4c9-45dc-a1d3-8f37429b45d0",
   "metadata": {},
   "source": [
    "## How to Install a Virtual Environment"
   ]
  },
  {
   "cell_type": "markdown",
   "id": "baef7e10-c1ac-4004-afe9-ebef54af7c71",
   "metadata": {},
   "source": [
    "# Install virtualenv (optional but recommended)\n",
    "\n",
    "While Python's built-in venv module is usually sufficient, virtualenv offers some additional features. To install virtualenv, run:"
   ]
  },
  {
   "cell_type": "code",
   "execution_count": null,
   "id": "4f835a46-0d71-4e9a-bf06-c58afc9affdf",
   "metadata": {},
   "outputs": [],
   "source": [
    "pip install virtualenv"
   ]
  },
  {
   "cell_type": "markdown",
   "id": "10579050-4a42-4294-a1f4-ceef84b611e1",
   "metadata": {},
   "source": [
    "### Create a Virtual Environment\n",
    "**Using venv (built-in):**\n",
    "\n",
    "Open your terminal or command prompt and navigate to your project directory. Run the following command:"
   ]
  },
  {
   "cell_type": "code",
   "execution_count": null,
   "id": "e8912131-966f-4626-b024-e9b369b3dbbd",
   "metadata": {},
   "outputs": [],
   "source": [
    "python -m venv .venv"
   ]
  },
  {
   "cell_type": "markdown",
   "id": "79214670-11f9-41e8-8b22-ded48a45f3e8",
   "metadata": {},
   "source": [
    "Here, .venv is the name of the virtual environment. You can choose any name you like.\n",
    "\n",
    "**Using virtualenv:**\n",
    "\n",
    "If you installed virtualenv, you can create a virtual environment by running:\n"
   ]
  },
  {
   "cell_type": "code",
   "execution_count": null,
   "id": "dfc14fa2-9824-4273-b574-686c014982de",
   "metadata": {},
   "outputs": [],
   "source": [
    "virtualenv .venv"
   ]
  },
  {
   "cell_type": "markdown",
   "id": "b525d1c7-771a-4ea9-8153-5af9c317382c",
   "metadata": {},
   "source": [
    "### Activate the Virtual Environment\n",
    "**On Windows:**\n",
    "To activate the virtual environment, use:"
   ]
  },
  {
   "cell_type": "code",
   "execution_count": null,
   "id": "7c8aab0c-d842-4a88-b6d9-7d23fcecd430",
   "metadata": {},
   "outputs": [],
   "source": [
    ".venv\\Scripts\\activate"
   ]
  },
  {
   "cell_type": "markdown",
   "id": "b286a1e2-2ed6-4229-b2e0-d60b3e36ab32",
   "metadata": {},
   "source": [
    "**On macOS and Linux:**\n",
    "To activate the virtual environment, use:"
   ]
  },
  {
   "cell_type": "code",
   "execution_count": null,
   "id": "dd0c003c-1d46-4cbc-9bb3-fad6f979c13d",
   "metadata": {},
   "outputs": [],
   "source": [
    "source .venv/bin/activate"
   ]
  },
  {
   "cell_type": "markdown",
   "id": "dc81898e-8110-4bd4-9a78-5f60365f4d3a",
   "metadata": {},
   "source": [
    "Once activated, you’ll see the name of your virtual environment in the command prompt, indicating that the environment is active."
   ]
  },
  {
   "cell_type": "markdown",
   "id": "044ae6ed-2ef7-442a-bf7d-69fbb9d08592",
   "metadata": {},
   "source": [
    "### Install Packages\n",
    "\n",
    "With the virtual environment activated, you can install packages using pip without affecting the global Python installation. For example:"
   ]
  },
  {
   "cell_type": "code",
   "execution_count": null,
   "id": "9be74fc9-5d21-4b6d-a0e0-cb821aa9f14b",
   "metadata": {},
   "outputs": [],
   "source": [
    "pip install requests"
   ]
  },
  {
   "cell_type": "markdown",
   "id": "803ab7e5-b59b-4509-b0b7-a4da02060534",
   "metadata": {},
   "source": [
    "### Deactivate the Virtual Environment\n",
    "\n",
    "To deactivate the virtual environment and return to the global Python environment, simply run:"
   ]
  },
  {
   "cell_type": "code",
   "execution_count": null,
   "id": "6b5587c8-a897-4e6e-821a-8dbb69fd488b",
   "metadata": {},
   "outputs": [],
   "source": [
    "deactivate"
   ]
  },
  {
   "cell_type": "markdown",
   "id": "df49c287-0e95-45d5-b9bc-fa7ee95e533b",
   "metadata": {},
   "source": [
    "**Additional Tips**\n",
    "\n",
    "Requirements File: To freeze the current state of your environment (i.e., list all installed packages and their versions), you can create a requirements.txt file:"
   ]
  },
  {
   "cell_type": "code",
   "execution_count": null,
   "id": "7913f236-152c-4dfe-95d2-03fc886b949e",
   "metadata": {},
   "outputs": [],
   "source": [
    "pip freeze > requirements.txt"
   ]
  },
  {
   "cell_type": "markdown",
   "id": "e9b10304-63d3-4450-9140-249b9472589a",
   "metadata": {},
   "source": [
    "You can later recreate the environment with:"
   ]
  },
  {
   "cell_type": "code",
   "execution_count": null,
   "id": "2e6c7d93-86ef-40d5-8e1d-43b46268fe47",
   "metadata": {},
   "outputs": [],
   "source": [
    "pip install -r requirements.txt"
   ]
  },
  {
   "cell_type": "markdown",
   "id": "4bd185ee-5296-426b-9c73-05e961a00867",
   "metadata": {},
   "source": [
    "Deleting the Virtual Environment: If you need to delete the virtual environment, simply delete the folder (e.g., myenv) that was created.\n",
    "\n",
    "This process allows you to manage dependencies effectively, preventing conflicts between different projects."
   ]
  },
  {
   "cell_type": "markdown",
   "id": "f7361b38-b5dd-41ab-b4cd-dc934bfe2311",
   "metadata": {},
   "source": [
    "# Install JupyterLab"
   ]
  },
  {
   "cell_type": "markdown",
   "id": "0f1dd356-f80a-49a9-b82f-84bb4b7b7d0e",
   "metadata": {},
   "source": [
    "With the virtual environment activated, install JupyterLab using pip:"
   ]
  },
  {
   "cell_type": "code",
   "execution_count": null,
   "id": "d941a8f3-128c-4a2a-b226-11ec4551365e",
   "metadata": {},
   "outputs": [],
   "source": [
    "pip install jupyterlab"
   ]
  },
  {
   "cell_type": "markdown",
   "id": "0522d193-e807-49e3-ae6a-def2a6189f15",
   "metadata": {},
   "source": [
    "This command will start a local server and open JupyterLab in your default web browser."
   ]
  },
  {
   "cell_type": "markdown",
   "id": "14f6bbbd-a0d5-4cea-b186-f8735eae329f",
   "metadata": {},
   "source": [
    "### Additional Tips\n",
    "\n",
    "Verifying Installation: You can verify that JupyterLab is installed by checking its version:"
   ]
  },
  {
   "cell_type": "code",
   "execution_count": null,
   "id": "54e1a255-f746-470e-9246-353f34483250",
   "metadata": {},
   "outputs": [],
   "source": [
    "jupyter lab --version"
   ]
  },
  {
   "cell_type": "code",
   "execution_count": null,
   "id": "06a68f1d-fa42-47fc-9ae2-f41bed131bff",
   "metadata": {},
   "outputs": [],
   "source": [
    "#run\n",
    "jupyter lab"
   ]
  },
  {
   "cell_type": "markdown",
   "id": "7928da2c-20eb-4fd1-b569-748291228007",
   "metadata": {},
   "source": [
    "Installing Additional Kernels: If you need to install additional kernels (e.g., for different versions of Python or other languages), you can do so within the virtual environment. For example, to install an additional Python kernel:"
   ]
  },
  {
   "cell_type": "code",
   "execution_count": null,
   "id": "b994db99-3694-4fe1-ab74-3fd18d009600",
   "metadata": {},
   "outputs": [],
   "source": [
    "pip install ipykernel"
   ]
  },
  {
   "cell_type": "code",
   "execution_count": null,
   "id": "5d3112bf-ca1c-49f5-ac82-6dff2790a416",
   "metadata": {},
   "outputs": [],
   "source": [
    "python -m ipykernel install --D: --Kata .venv --display-name \"Python (.venv)\""
   ]
  },
  {
   "cell_type": "markdown",
   "id": "098d9953-38e1-404e-afcf-fdfc3bb07049",
   "metadata": {},
   "source": [
    "Requirements File: If you want to save the list of installed packages in your virtual environment, you can create a requirements.txt file:"
   ]
  },
  {
   "cell_type": "code",
   "execution_count": null,
   "id": "025f8f4b-5cf9-4a7f-8f2e-362d1c4e4628",
   "metadata": {},
   "outputs": [],
   "source": [
    "pip freeze > requirements.txt"
   ]
  },
  {
   "cell_type": "markdown",
   "id": "66a1a5fa-f64d-42f9-8203-6c725ee73365",
   "metadata": {},
   "source": [
    "This file can be used to recreate the environment later:"
   ]
  },
  {
   "cell_type": "code",
   "execution_count": null,
   "id": "68fc1d85-98c3-44e5-9b97-38d7d1e4eb60",
   "metadata": {},
   "outputs": [],
   "source": [
    "pip install -r requirements.txt"
   ]
  },
  {
   "cell_type": "markdown",
   "id": "6562ef53-a337-412f-b9fa-d60b96911550",
   "metadata": {},
   "source": [
    "By following these steps, you can effectively manage JupyterLab installations within isolated virtual environments, ensuring that each project has its own dependencies and versions."
   ]
  },
  {
   "cell_type": "markdown",
   "id": "d9269d4d-79aa-4c44-871f-a6adacf2e06a",
   "metadata": {},
   "source": [
    "## To fork a GitHub repository in a Jupyter Notebook environment, follow these steps:\n",
    "\n",
    "### 1. Fork the Repository on GitHub\n",
    "Go to the repository you want to fork on GitHub.\n",
    "Click the Fork button on the top right of the repository page. This will create a copy of the repository under your own GitHub account.\n",
    "\n",
    "### 2. Clone the Forked Repository to Jupyter Notebook\n",
    "After forking, clone your forked repository to your Jupyter Notebook environment using git commands.\n",
    "\n",
    "Then, open a new Jupyter Notebook and create a new cell."
   ]
  },
  {
   "cell_type": "markdown",
   "id": "02e3d126-d21c-4191-be28-3b468afae597",
   "metadata": {},
   "source": [
    "Run the following command to install Git if it’s not already installed:"
   ]
  },
  {
   "cell_type": "code",
   "execution_count": null,
   "id": "c3e461a5-21cf-4389-b0d8-f523e064cc32",
   "metadata": {},
   "outputs": [],
   "source": [
    "!pip install gitpython"
   ]
  },
  {
   "cell_type": "markdown",
   "id": "8de1592c-1aa6-4836-994b-bfc9807a452f",
   "metadata": {},
   "source": [
    "Next, navigate to the directory where you want to clone the repository or specify a path:"
   ]
  },
  {
   "cell_type": "code",
   "execution_count": null,
   "id": "e13938d8-2974-4ef9-914c-c808e5455ec6",
   "metadata": {},
   "outputs": [],
   "source": [
    "!git clone https://github.com/gkate78/ai.git"
   ]
  },
  {
   "cell_type": "markdown",
   "id": "e9aa24ec-a7f4-4daf-bffb-f026942dfd1a",
   "metadata": {},
   "source": [
    "Replace your-username with your GitHub username and forked-repo-name with the name of the repository you forked.\n",
    "\n",
    "### 3. Navigate to the Cloned Repository Directory\n",
    "\n",
    "After cloning the repository, you can navigate into the directory and start working with the files:\n",
    "\n",
    "This code changes the working directory in Jupyter Notebook to the repository folder."
   ]
  },
  {
   "cell_type": "code",
   "execution_count": null,
   "id": "cdbd1372-2720-44f7-b0d9-dcfa03bd2e4a",
   "metadata": {},
   "outputs": [],
   "source": [
    "%cd forked-repo-name"
   ]
  },
  {
   "cell_type": "code",
   "execution_count": null,
   "id": "861f7849-958c-4890-8be9-859838dcf927",
   "metadata": {},
   "outputs": [],
   "source": [
    "### 4. Push Changes Back to GitHub\n",
    "When you make changes to the code, add and commit your changes:"
   ]
  },
  {
   "cell_type": "code",
   "execution_count": null,
   "id": "a2861c48-1dbd-4fc3-a94e-e0f2552bff72",
   "metadata": {},
   "outputs": [],
   "source": [
    "!git add ."
   ]
  },
  {
   "cell_type": "code",
   "execution_count": null,
   "id": "718b546c-03b9-4ce4-bc88-b4cf7a4c603f",
   "metadata": {},
   "outputs": [],
   "source": [
    "!git commit -m \"Describe your changes here\""
   ]
  },
  {
   "cell_type": "markdown",
   "id": "d19b5405-6e63-4b96-8b62-89111b6dadb1",
   "metadata": {},
   "source": [
    "Then, push your changes back to your forked repository:"
   ]
  },
  {
   "cell_type": "code",
   "execution_count": null,
   "id": "7f6d3a4c-2653-4217-8d12-93dabbe47aa1",
   "metadata": {},
   "outputs": [],
   "source": [
    "!git push origin main"
   ]
  },
  {
   "cell_type": "markdown",
   "id": "545ac966-a922-40d1-89d7-8d3db3dc69dc",
   "metadata": {},
   "source": [
    "## Setting up your local LLM\n",
    "\n",
    "### Step 1: Install **[LM Studio](https://lmstudio.ai/)** to access our Local LLM. \n",
    "\n",
    "1. Download LM Studio from the official site.\n",
    "2. Install LM Studio by running the installer.\n",
    "3. After installation, add the CLI by running:"
   ]
  },
  {
   "cell_type": "code",
   "execution_count": null,
   "id": "907ea690-88bf-4394-bbec-13698a5b5554",
   "metadata": {},
   "outputs": [],
   "source": [
    "#bash run code\n",
    "npm install -g lm-studio-cli"
   ]
  },
  {
   "cell_type": "markdown",
   "id": "5d21b979-1c16-4841-9fa4-89f2cae75e32",
   "metadata": {},
   "source": [
    "Check the installation:"
   ]
  },
  {
   "cell_type": "code",
   "execution_count": null,
   "id": "37c59f0d-7af9-4e3c-89be-88dbe2f1b177",
   "metadata": {},
   "outputs": [],
   "source": [
    "#bash RUN code\n",
    "lm-studio --version"
   ]
  },
  {
   "cell_type": "markdown",
   "id": "b28fbbc0-cfc4-4bcb-8d98-c80e05bc5eb7",
   "metadata": {},
   "source": [
    "# Install Docker\n",
    "\n",
    "Docker helps create isolated environments for running applications. It’s great for setting up databases, testing different server configurations, and more.\n",
    "\n",
    "1. Go to the Docker website: https://www.docker.com/.\n",
    "2. Download the Docker Desktop installer suitable for your OS.\n",
    "3. Run the installer and follow the setup instructions.\n",
    "4. Once installed, launch Docker and verify with:"
   ]
  },
  {
   "cell_type": "code",
   "execution_count": null,
   "id": "0f651284-b72a-4a56-8c5f-0ea219695a1d",
   "metadata": {},
   "outputs": [],
   "source": [
    "#bash run code\n",
    "docker --version"
   ]
  },
  {
   "cell_type": "markdown",
   "id": "76c10b5a-65fb-4f0b-97a3-5b8f45355858",
   "metadata": {},
   "source": [
    "# Install Postgres\n",
    "\n",
    "Postgres is a powerful open-source relational database. It’s widely used for its reliability, features, and compatibility with modern applications.\n",
    "\n",
    "1. Download the PostgreSQL installer from Postgres Official.\n",
    "2. Run the installer and follow the steps to complete the setup.\n",
    "3. During installation, set up a password for the default user (postgres).\n",
    "4. Verify the installation:"
   ]
  },
  {
   "cell_type": "code",
   "execution_count": null,
   "id": "1f651613-a489-4be2-bad0-688220e5d453",
   "metadata": {},
   "outputs": [],
   "source": [
    "#bash run code\n",
    "psql -U postgres"
   ]
  },
  {
   "cell_type": "markdown",
   "id": "1967d78e-4826-4219-baab-89cf75323c41",
   "metadata": {},
   "source": [
    "5. Enter the password when prompted. You should see the psql command-line interface."
   ]
  },
  {
   "cell_type": "markdown",
   "id": "b0da8337-fc50-43b5-95da-e84e000d5aa3",
   "metadata": {},
   "source": [
    "###Confirm Your Environment Setup\n",
    "Review Installed Tools:\n",
    "Open a terminal and check each tool:"
   ]
  },
  {
   "cell_type": "code",
   "execution_count": null,
   "id": "f9ca4322-0aab-41e5-81c7-716388a78ce7",
   "metadata": {},
   "outputs": [],
   "source": [
    "#bash run code\n",
    "code --version      # Visual Studio Code\n",
    "pyenv --version     # Pyenv\n",
    "python --version    # Python\n",
    "jupyter --version   # Jupyter Notebook\n",
    "lm-studio --version # LM Studio CLI\n",
    "docker --version    # Docker\n",
    "psql --version      # Postgres"
   ]
  },
  {
   "cell_type": "markdown",
   "id": "a36b0183-455a-4bb1-b5e1-0d58d733823d",
   "metadata": {},
   "source": [
    "Make sure each command outputs the correct version information.\n",
    "And that’s it! You’ve successfully set up an environment for an LLM project. From managing Python versions to setting up databases and containerized applications, this environment is now ready for developing and experimenting with large language models. \n",
    "\n",
    "**Happy coding!**"
   ]
  },
  {
   "cell_type": "markdown",
   "id": "0805a4df-de2f-4fc1-b60a-f1c3fddf45b0",
   "metadata": {},
   "source": [
    "Following the **First exercise** using the Model: TheBloke/Mistral-7B-Instruct-v0.2-GGUF/mistral-7b-instruct-v0.2.Q4_K_M.gguf"
   ]
  },
  {
   "cell_type": "code",
   "execution_count": null,
   "id": "126dc013-cbc8-49a6-9ed8-494bf49f9a92",
   "metadata": {},
   "outputs": [],
   "source": []
  }
 ],
 "metadata": {
  "kernelspec": {
   "display_name": "Python (Kata)",
   "language": "python",
   "name": "kataenv"
  },
  "language_info": {
   "codemirror_mode": {
    "name": "ipython",
    "version": 3
   },
   "file_extension": ".py",
   "mimetype": "text/x-python",
   "name": "python",
   "nbconvert_exporter": "python",
   "pygments_lexer": "ipython3",
   "version": "3.12.6"
  }
 },
 "nbformat": 4,
 "nbformat_minor": 5
}
